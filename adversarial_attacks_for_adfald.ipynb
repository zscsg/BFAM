{
 "cells": [
  {
   "cell_type": "code",
   "execution_count": 1,
   "metadata": {
    "scrolled": true
   },
   "outputs": [],
   "source": [
    "import numpy as np \n",
    "from sklearn.preprocessing import StandardScaler\n",
    "from sklearn.model_selection import GridSearchCV\n",
    "from sklearn.naive_bayes import MultinomialNB\n",
    "from sklearn.neural_network import MLPClassifier\n",
    "from sklearn.linear_model import LogisticRegression\n",
    "from sklearn.tree import DecisionTreeClassifier\n",
    "from sklearn.ensemble import RandomForestClassifier\n",
    "from sklearn.metrics import recall_score\n",
    "import pandas as pd \n",
    "import joblib\n",
    "import pytorch_bfam as bfam\n",
    "import time"
   ]
  },
  {
   "cell_type": "markdown",
   "metadata": {},
   "source": [
    "# 加载数据和辅助函数"
   ]
  },
  {
   "cell_type": "code",
   "execution_count": 3,
   "metadata": {},
   "outputs": [],
   "source": [
    "data = np.load('./data/VECTORIZED/adfald_bin.npz')\r\n",
    "x_tr,y_tr,x_te,y_te = data['x_tr'],data['y_tr'],data['x_te'],data['y_te']\r\n",
    "attacks = x_te[y_te==1]\r\n",
    "labels = y_te[y_te==1]"
   ]
  },
  {
   "cell_type": "markdown",
   "metadata": {},
   "source": [
    "# ad_attacks_for_LR"
   ]
  },
  {
   "cell_type": "code",
   "execution_count": null,
   "metadata": {},
   "outputs": [],
   "source": [
    "clf = joblib.load('./temp/ADFA-LD/LogisticforADFALD')\r\n",
    "print('The accuracy is {}'.format(clf.score(x_te, y_te)))\r\n",
    "print('The original detection rate is {}'.format(clf.score(attacks, labels)))"
   ]
  },
  {
   "cell_type": "code",
   "execution_count": null,
   "metadata": {},
   "outputs": [],
   "source": [
    "bsk = bfam.BruteforceAttackMethod(clf, target=0)\n",
    "start = time.time()\n",
    "adv_x, num_q = bsk.generate(attacks.astype(np.float64))\n",
    "stop = time.time()\n",
    "print('The detection rate becomes {}, the number of queries is {:.2f}, the time cost is {}!'.format(\n",
    "        clf.score(adv_x, labels), np.mean(num_q), stop-start))"
   ]
  },
  {
   "cell_type": "code",
   "execution_count": null,
   "metadata": {
    "collapsed": false,
    "pycharm": {
     "name": "#%%\n"
    }
   },
   "outputs": [],
   "source": [
    "print(adv_x.shape, attacks.shape)\n",
    "print(clf.score(attacks, labels))\n",
    "print(clf.score(adv_x, labels))\n",
    "print(clf.predict(adv_x))"
   ]
  },
  {
   "cell_type": "markdown",
   "metadata": {},
   "source": [
    "# ad_attacks_for_DT"
   ]
  },
  {
   "cell_type": "code",
   "execution_count": null,
   "metadata": {},
   "outputs": [],
   "source": [
    "clf = joblib.load('./temp/ADFA-LD/DecisionTreeforADFALD')\n",
    "print('The accuracy is {}'.format(clf.score(x_te, y_te)))\n",
    "print('The original detection rate is {}'.format(clf.score(attacks, labels)))"
   ]
  },
  {
   "cell_type": "code",
   "execution_count": null,
   "metadata": {},
   "outputs": [],
   "source": [
    "bsk = bfam.BruteforceAttackMethod(clf, target=0)\n",
    "start = time.time()\n",
    "adv_x, num_q = bsk.generate(attacks.astype(np.float))\n",
    "stop = time.time()\n",
    "print('The detection rate becomes {}, the number of queries is {}, the time cost is {}!'.format(\n",
    "        clf.score(adv_x, labels), np.mean(num_q), stop-start))"
   ]
  },
  {
   "cell_type": "code",
   "execution_count": null,
   "metadata": {
    "collapsed": false,
    "pycharm": {
     "name": "#%%\n"
    }
   },
   "outputs": [],
   "source": [
    "print(adv_x.shape, attacks.shape)\n",
    "print(clf.score(attacks, labels))\n",
    "print(clf.score(adv_x, labels))\n",
    "print(clf.predict(adv_x))"
   ]
  },
  {
   "cell_type": "markdown",
   "metadata": {},
   "source": [
    "# ad_attacks_for_MLP"
   ]
  },
  {
   "cell_type": "code",
   "execution_count": null,
   "metadata": {},
   "outputs": [],
   "source": [
    "clf = joblib.load('./temp/ADFA-LD/MLPClassifierforADFALD')\n",
    "print('The accuracy is {}'.format(clf.score(x_te, y_te)))\n",
    "print('The original detection rate is {}'.format(clf.score(attacks, labels)))"
   ]
  },
  {
   "cell_type": "code",
   "execution_count": null,
   "metadata": {},
   "outputs": [],
   "source": [
    "bsk = bfam.BruteforceAttackMethod(clf, target=0)\n",
    "start = time.time()\n",
    "adv_x, num_q = bsk.generate(attacks.astype('float'))\n",
    "stop = time.time()\n",
    "print('The detection rate becomes {}, the number of queries is {}, the time cost is {}!'.format(\n",
    "        clf.score(adv_x, labels), np.mean(num_q), stop-start))"
   ]
  },
  {
   "cell_type": "code",
   "execution_count": null,
   "metadata": {
    "collapsed": false,
    "pycharm": {
     "name": "#%%\n"
    }
   },
   "outputs": [],
   "source": [
    "print(adv_x.shape, attacks.shape)\n",
    "print(clf.score(attacks, labels))\n",
    "print(clf.score(adv_x, labels))\n",
    "print(clf.predict(adv_x))"
   ]
  },
  {
   "cell_type": "markdown",
   "metadata": {},
   "source": [
    "# ad_attacks_for_NB"
   ]
  },
  {
   "cell_type": "code",
   "execution_count": null,
   "metadata": {},
   "outputs": [],
   "source": [
    "clf = joblib.load('./temp/ADFA-LD/NaiveBayesianforADFALD')\n",
    "print('The accuracy is {}'.format(clf.score(x_te, y_te)))\n",
    "print('The original detection rate is {}'.format(clf.score(attacks, labels)))"
   ]
  },
  {
   "cell_type": "code",
   "execution_count": null,
   "metadata": {},
   "outputs": [],
   "source": [
    "bsk = bfam.BruteforceAttackMethod(clf, target=0)\n",
    "start = time.time()\n",
    "adv_x, num_q = bsk.generate(attacks.astype(np.float))\n",
    "stop = time.time()\n",
    "print('The detection rate becomes {}, the number of queries is {}, the time cost is {}!'.format(\n",
    "        clf.score(adv_x, labels), np.mean(num_q), stop-start))"
   ]
  },
  {
   "cell_type": "code",
   "execution_count": null,
   "metadata": {
    "collapsed": false,
    "pycharm": {
     "name": "#%%\n"
    }
   },
   "outputs": [],
   "source": [
    "print(adv_x.shape, attacks.shape)\n",
    "print(clf.score(attacks, labels))\n",
    "print(clf.score(adv_x, labels))\n",
    "print(clf.predict(adv_x))"
   ]
  },
  {
   "cell_type": "markdown",
   "metadata": {},
   "source": [
    "# ad_attacks_for_RF"
   ]
  },
  {
   "cell_type": "code",
   "execution_count": null,
   "metadata": {
    "pycharm": {
     "name": "#%%\n"
    }
   },
   "outputs": [],
   "source": [
    "clf = joblib.load('./temp/ADFA-LD/RandomForestforADFALD')\n",
    "print('The accuracy is {}'.format(clf.score(x_te, y_te)))\n",
    "print('The original detection rate is {}'.format(clf.score(attacks, labels)))"
   ]
  },
  {
   "cell_type": "code",
   "execution_count": null,
   "metadata": {
    "collapsed": false,
    "pycharm": {
     "name": "#%%\n"
    }
   },
   "outputs": [],
   "source": [
    "bsk = bfam.BruteforceAttackMethod(clf, target=0)\n",
    "start = time.time()\n",
    "adv_x, num_q = bsk.generate(attacks, alpha=1)\n",
    "stop = time.time()\n",
    "print('The detection rate becomes {}, the number of queries is {}, the time cost is {}!'.format(\n",
    "        clf.score(adv_x, labels), np.mean(num_q), stop-start))"
   ]
  },
  {
   "cell_type": "code",
   "execution_count": null,
   "metadata": {
    "collapsed": false,
    "pycharm": {
     "name": "#%%\n"
    }
   },
   "outputs": [],
   "source": [
    "print(adv_x.shape, attacks.shape)\n",
    "print(clf.score(attacks, labels))\n",
    "print(clf.score(adv_x, labels))\n",
    "print(clf.predict(adv_x))"
   ]
  }
 ],
 "metadata": {
  "language_info": {},
  "orig_nbformat": 3
 },
 "nbformat": 4,
 "nbformat_minor": 2
}