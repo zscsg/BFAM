{
 "cells": [
  {
   "cell_type": "code",
   "execution_count": 1,
   "metadata": {},
   "outputs": [],
   "source": [
    "import numpy as np \n",
    "from sklearn.preprocessing import StandardScaler\n",
    "from sklearn.model_selection import GridSearchCV\n",
    "from sklearn.naive_bayes import MultinomialNB\n",
    "from sklearn.neural_network import MLPClassifier\n",
    "from sklearn.linear_model import LogisticRegression\n",
    "from sklearn.tree import DecisionTreeClassifier\n",
    "from sklearn.ensemble import RandomForestClassifier\n",
    "import pandas as pd \n",
    "import joblib\n",
    "import pytorch_bfam as bfam\n",
    "import time"
   ]
  },
  {
   "cell_type": "markdown",
   "metadata": {},
   "source": [
    "# 加载数据和辅助函数"
   ]
  },
  {
   "cell_type": "code",
   "execution_count": 2,
   "metadata": {},
   "outputs": [],
   "source": [
    "data = np.load('./data/VECTORIZED/drebin.npz')\r\n",
    "x_tr,y_tr,x_te,y_te = data['x_tr'], data['y_tr'], data['x_te'], data['y_te']\r\n",
    "\r\n",
    "attacks = x_te[y_te==1]\r\n",
    "labels = y_te[y_te==1]"
   ]
  },
  {
   "cell_type": "markdown",
   "metadata": {},
   "source": [
    "# ad_attacks for LR"
   ]
  },
  {
   "cell_type": "code",
   "execution_count": null,
   "metadata": {},
   "outputs": [],
   "source": [
    "clf = joblib.load('./temp/DREBIN/LogisitcforDREBIN')\n",
    "print(\"The ODR is {:.2f}\".format(clf.score(attacks, labels)*100))"
   ]
  },
  {
   "cell_type": "code",
   "execution_count": null,
   "metadata": {},
   "outputs": [],
   "source": [
    "bsk = bfam.BruteforceAttackMethod(clf, target=0)\n",
    "start = time.time()\n",
    "adv_x, num_q = bsk.generate(attacks, p_index=range(567, 1509))\n",
    "stop = time.time()\n",
    "print('The detection rate becomes {:.2f}, the number of queries is {:.2f}, the time cost is {:.2f}!'.format(\n",
    "        clf.score(adv_x, labels)*100, np.mean(num_q), stop-start))"
   ]
  },
  {
   "cell_type": "code",
   "execution_count": null,
   "metadata": {
    "collapsed": false,
    "pycharm": {
     "name": "#%%\n"
    }
   },
   "outputs": [],
   "source": [
    "print(adv_x.shape, attacks.shape)\n",
    "print(clf.score(attacks, labels))\n",
    "print(clf.score(adv_x, labels))\n",
    "print(clf.predict(adv_x))"
   ]
  },
  {
   "cell_type": "markdown",
   "metadata": {
    "collapsed": false
   },
   "source": [
    "# ad_attacks for DT"
   ]
  },
  {
   "cell_type": "code",
   "execution_count": null,
   "metadata": {},
   "outputs": [],
   "source": [
    "clf = joblib.load('./temp/DREBIN/DecisionTreeforDREBIN')\n",
    "print(\"The ODR is {:.2f}\".format(clf.score(attacks, labels)*100))"
   ]
  },
  {
   "cell_type": "code",
   "execution_count": null,
   "metadata": {},
   "outputs": [],
   "source": [
    "bsk = bfam.BruteforceAttackMethod(clf, target=0)\n",
    "start = time.time()\n",
    "adv_x, num_q = bsk.generate(attacks, p_index=range(567, 1509))\n",
    "stop = time.time()\n",
    "print('The detection rate becomes {:.2f}, the number of queries is {:.2f}, the time cost is {:.2f}!'.format(\n",
    "        clf.score(adv_x, labels)*100, np.mean(num_q), stop-start))"
   ]
  },
  {
   "cell_type": "code",
   "execution_count": null,
   "metadata": {
    "collapsed": false,
    "pycharm": {
     "name": "#%%\n"
    }
   },
   "outputs": [],
   "source": [
    "print(adv_x.shape, attacks.shape)\n",
    "print(clf.score(attacks, labels))\n",
    "print(clf.score(adv_x, labels))\n",
    "print(clf.predict(adv_x))"
   ]
  },
  {
   "cell_type": "markdown",
   "metadata": {},
   "source": [
    "# ad_attacks for MLP"
   ]
  },
  {
   "cell_type": "code",
   "execution_count": null,
   "metadata": {},
   "outputs": [],
   "source": [
    "clf = joblib.load('./temp/DREBIN/MLPforDREBIN')\n",
    "print(\"The ODR is {:.2f}\".format(clf.score(attacks, labels)*100))"
   ]
  },
  {
   "cell_type": "code",
   "execution_count": null,
   "metadata": {},
   "outputs": [],
   "source": [
    "bsk = bfam.BruteforceAttackMethod(clf, target=0)\n",
    "start = time.time()\n",
    "adv_x, num_q = bsk.generate(attacks, p_index=range(567, 1509))\n",
    "stop = time.time()\n",
    "print('The detection rate becomes {:.2f}, the number of queries is {:.2f}, the time cost is {:.2f}!'.format(\n",
    "        clf.score(adv_x, labels)*100, num_q, stop-start))"
   ]
  },
  {
   "cell_type": "code",
   "execution_count": null,
   "metadata": {
    "collapsed": false,
    "pycharm": {
     "name": "#%%\n"
    }
   },
   "outputs": [],
   "source": [
    "print(adv_x.shape, attacks.shape)\n",
    "print(clf.score(attacks, labels))\n",
    "print(clf.score(adv_x, labels))\n",
    "print(clf.predict(adv_x))"
   ]
  },
  {
   "cell_type": "markdown",
   "metadata": {},
   "source": [
    "# ad_attacks for NB"
   ]
  },
  {
   "cell_type": "code",
   "execution_count": null,
   "metadata": {},
   "outputs": [],
   "source": [
    "clf = joblib.load('./temp/DREBIN/NaiveBayesforDREBIN')\n",
    "print(\"The ODR is {:.2f}\".format(clf.score(attacks, labels)*100))"
   ]
  },
  {
   "cell_type": "code",
   "execution_count": null,
   "metadata": {},
   "outputs": [],
   "source": [
    "bsk = bfam.BruteforceAttackMethod(clf, target=0)\n",
    "start = time.time()\n",
    "adv_x, num_q = bsk.generate(attacks, p_index=range(567, 1509))\n",
    "stop = time.time()\n",
    "print('The detection rate becomes {:.2f}, the number of queries is {:.2f}, the time cost is {:.2f}!'.format(\n",
    "        clf.score(adv_x, labels)*100, np.mean(num_q), stop-start))"
   ]
  },
  {
   "cell_type": "code",
   "execution_count": null,
   "metadata": {
    "collapsed": false,
    "pycharm": {
     "name": "#%%\n"
    }
   },
   "outputs": [],
   "source": [
    "print(adv_x.shape, attacks.shape)\n",
    "print(clf.score(attacks, labels))\n",
    "print(clf.score(adv_x, labels))\n",
    "print(clf.predict(adv_x))\n"
   ]
  },
  {
   "cell_type": "markdown",
   "metadata": {},
   "source": [
    "# ad_attacks for RF"
   ]
  },
  {
   "cell_type": "code",
   "execution_count": null,
   "metadata": {},
   "outputs": [],
   "source": [
    "clf = joblib.load('./temp/DREBIN/RandomForestforDREBIN')\n",
    "print(\"The ODR is {:.2f}\".format(clf.score(attacks, labels)*100))"
   ]
  },
  {
   "cell_type": "code",
   "execution_count": null,
   "metadata": {
    "pycharm": {
     "name": "#%%\n"
    }
   },
   "outputs": [],
   "source": [
    "bsk = bfam.BruteforceAttackMethod(clf, target=0)\n",
    "start = time.time()\n",
    "adv_x, num_q = bsk.generate(attacks, p_index=range(566, 1508))\n",
    "stop = time.time()\n",
    "print('The detection rate becomes {:.2f}, the number of queries is {:.2f}, the time cost is {:.2f}!'.format(\n",
    "        clf.score(adv_x, labels)*100, np.mean(num_q), stop-start))"
   ]
  },
  {
   "cell_type": "code",
   "execution_count": null,
   "metadata": {
    "collapsed": false,
    "pycharm": {
     "name": "#%%\n"
    }
   },
   "outputs": [],
   "source": [
    "print(adv_x.shape, attacks.shape)\n",
    "print(clf.score(attacks, labels))\n",
    "print(clf.score(adv_x, labels))\n",
    "print(clf.predict(adv_x))"
   ]
  }
 ],
 "metadata": {
  "kernelspec": {
   "display_name": "Python 3",
   "language": "python",
   "name": "python3"
  },
  "language_info": {
   "codemirror_mode": {
    "name": "ipython",
    "version": 3
   },
   "file_extension": ".py",
   "mimetype": "text/x-python",
   "name": "python",
   "nbconvert_exporter": "python",
   "pygments_lexer": "ipython3",
   "version": "3.6.10"
  }
 },
 "nbformat": 4,
 "nbformat_minor": 2
}