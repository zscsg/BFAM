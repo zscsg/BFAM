{
 "cells": [
  {
   "cell_type": "code",
   "execution_count": 1,
   "metadata": {},
   "outputs": [],
   "source": [
    "import numpy as np \n",
    "from sklearn.preprocessing import MinMaxScaler\n",
    "from sklearn.model_selection import GridSearchCV\n",
    "from sklearn.naive_bayes import MultinomialNB\n",
    "from sklearn.neural_network import MLPClassifier\n",
    "from sklearn.linear_model import LogisticRegression\n",
    "from sklearn.tree import DecisionTreeClassifier\n",
    "from sklearn.ensemble import RandomForestClassifier\n",
    "import pandas as pd \n",
    "import joblib\n",
    "import pytorch_bfam as bfam\n",
    "import time"
   ]
  },
  {
   "cell_type": "markdown",
   "metadata": {},
   "source": [
    "# 加载数据和辅助函数"
   ]
  },
  {
   "cell_type": "code",
   "execution_count": 2,
   "metadata": {
    "collapsed": false,
    "pycharm": {
     "name": "#%%\n"
    }
   },
   "outputs": [],
   "source": [
    "train_data_all =  np.load('./data/VECTORIZED/nslkdd_train.npz', allow_pickle=True)\r\n",
    "test_data_all = np.load('./data/VECTORIZED/nslkdd_test.npz', allow_pickle=True)\r\n",
    "\r\n",
    "x_tr, y_tr = train_data_all['x_tr'], train_data_all['y_tr']\r\n",
    "x_te, y_te = test_data_all['x_te'], test_data_all['y_te']"
   ]
  },
  {
   "cell_type": "code",
   "execution_count": 3,
   "metadata": {},
   "outputs": [],
   "source": [
    "test_data_part = np.load('./data/VECTORIZED/nslkdd_sep_test.npz', allow_pickle=True)\r\n",
    "\r\n",
    "xte_dos,yte_dos,xte_probe,yte_probe,xte_r2l,yte_r2l = test_data_part['xte_dos'],test_data_part['yte_dos'],\\\r\n",
    "                                                      test_data_part['xte_probe'], test_data_part['yte_probe'],\\\r\n",
    "                                                      test_data_part['xte_r2lu2r'], test_data_part['yte_r2lu2r']\r\n",
    "\r\n",
    "xte_d, yte_d = xte_dos[yte_dos==1], yte_dos[yte_dos==1]\r\n",
    "xte_p, yte_p = xte_probe[yte_probe==1], yte_probe[yte_probe==1]\r\n",
    "xte_r, yte_r = xte_r2l[yte_r2l==1], yte_r2l[yte_r2l==1]\r\n",
    "\r\n",
    "yte_d = yte_d.astype('int')\r\n",
    "yte_p = yte_p.astype('int')\r\n",
    "yte_r = yte_r.astype('int')"
   ]
  },
  {
   "cell_type": "code",
   "execution_count": 4,
   "metadata": {},
   "outputs": [],
   "source": [
    "mms = MinMaxScaler()\n",
    "mms.fit_transform(x_tr)\n",
    "xte_d = mms.transform(xte_d)\n",
    "xte_p = mms.transform(xte_p)\n",
    "xte_r = mms.transform(xte_r)"
   ]
  },
  {
   "cell_type": "markdown",
   "metadata": {},
   "source": [
    "# ad_attacks for LR"
   ]
  },
  {
   "cell_type": "code",
   "execution_count": null,
   "metadata": {},
   "outputs": [],
   "source": [
    "clf = joblib.load('./temp/NSLKDD/LogisticforNSLKDD')\n",
    "print(clf.score(xte_d, yte_d))\n",
    "print(clf.score(xte_p, yte_p))\n",
    "print(clf.score(xte_r, yte_r))"
   ]
  },
  {
   "cell_type": "code",
   "execution_count": null,
   "metadata": {},
   "outputs": [],
   "source": [
    "p_index = list(range(9,22)) + list(range(31,41))\n",
    "bsk = bfam.BruteforceAttackMethod(clf, target=0)\n",
    "start = time.time()\n",
    "adv_d, num_q = bsk.generate(xte_d, alpha=1., p_index=p_index)\n",
    "stop = time.time()\n",
    "print('The detection rate becomes {:.2f}, the number of queries is {:.2f}, the time cost is {:.2f}!'.format(\n",
    "        clf.score(adv_d, yte_d)*100, np.mean(num_q), stop-start))"
   ]
  },
  {
   "cell_type": "code",
   "execution_count": null,
   "metadata": {},
   "outputs": [],
   "source": [
    "p_index = list(range(9, 22))\n",
    "bsk = bfam.BruteforceAttackMethod(clf, target=0)\n",
    "start = time.time()\n",
    "adv_p, num_q = bsk.generate(xte_p, alpha=1., p_index=p_index)\n",
    "stop = time.time()\n",
    "print('The detection rate becomes {:.2f}, the number of queries is {:.2f}, the time cost is {:.2f}!'.format(\n",
    "        clf.score(adv_p, yte_p)*100, np.mean(num_q), stop-start))"
   ]
  },
  {
   "cell_type": "code",
   "execution_count": null,
   "metadata": {},
   "outputs": [],
   "source": [
    "p_index = list(range(22,41))\n",
    "bsk = bfam.BruteforceAttackMethod(clf, target=0)\n",
    "start = time.time()\n",
    "adv_r, num_q = bsk.generate(xte_r, alpha=1., p_index=p_index)\n",
    "print('The detection rate becomes {:.2f}, the number of queries is {:.2f}, the time cost is {:.2f}!'.format(\n",
    "        clf.score(adv_r, yte_r)*100, np.mean(num_q), stop-start))"
   ]
  },
  {
   "cell_type": "markdown",
   "metadata": {},
   "source": [
    "# ad_attacks for DT"
   ]
  },
  {
   "cell_type": "code",
   "execution_count": null,
   "metadata": {},
   "outputs": [],
   "source": [
    "clf = joblib.load('./temp/NSLKDD/DecisionTreeforNSLKDD')\n",
    "print(clf.score(xte_d, yte_d))\n",
    "print(clf.score(xte_p, yte_p))\n",
    "print(clf.score(xte_r, yte_r))"
   ]
  },
  {
   "cell_type": "code",
   "execution_count": null,
   "metadata": {},
   "outputs": [],
   "source": [
    "p_index = list(range(9,22)) + list(range(31,41))\n",
    "bsk = bfam.BruteforceAttackMethod(clf, target=0)\n",
    "start = time.time()\n",
    "adv_d, num_q = bsk.generate(xte_d, alpha=1., p_index=p_index)\n",
    "stop = time.time()\n",
    "print('The detection rate becomes {:.2f}, the number of queries is {:.2f}, the time cost is {:.2f}!'.format(\n",
    "        clf.score(adv_d, yte_d)*100, np.mean(num_q), stop-start))"
   ]
  },
  {
   "cell_type": "code",
   "execution_count": null,
   "metadata": {},
   "outputs": [],
   "source": [
    "p_index = range(9,22)\n",
    "bsk = bfam.BruteforceAttackMethod(clf, target=0)\n",
    "start = time.time()\n",
    "adv_p, num_q = bsk.generate(xte_p, alpha=1., p_index=p_index)\n",
    "stop = time.time()\n",
    "print('The detection rate becomes {:.2f}, the number of queries is {:.2f}, the time cost is {:.2f}!'.format(\n",
    "        clf.score(adv_p, yte_p)*100, np.mean(num_q), stop-start))"
   ]
  },
  {
   "cell_type": "code",
   "execution_count": null,
   "metadata": {},
   "outputs": [],
   "source": [
    "p_index = list(range(22,41))\n",
    "bsk = bfam.BruteforceAttackMethod(clf, target=0)\n",
    "start = time.time()\n",
    "adv_r, num_q = bsk.generate(xte_r, alpha=1., p_index=p_index)\n",
    "# adv_r, num_q = bsk.generate(xte_r, alpha=1.)\n",
    "stop = time.time()\n",
    "print('The detection rate becomes {:.2f}, the number of queries is {:.2f}, the time cost is {:.2f}!'.format(\n",
    "        clf.score(adv_r, yte_r)*100, np.mean(num_q), stop-start))"
   ]
  },
  {
   "cell_type": "markdown",
   "metadata": {},
   "source": [
    "# ad_attacks for MLP"
   ]
  },
  {
   "cell_type": "code",
   "execution_count": null,
   "metadata": {},
   "outputs": [],
   "source": [
    "clf= joblib.load('./temp/NSLKDD/MLPforNSLKDD')\n",
    "print(clf.score(xte_d, yte_d.astype('int')))\n",
    "print(clf.score(xte_p, yte_p.astype('int')))\n",
    "print(clf.score(xte_r, yte_r.astype('int')))"
   ]
  },
  {
   "cell_type": "code",
   "execution_count": null,
   "metadata": {},
   "outputs": [],
   "source": [
    "p_index = list(range(9,22)) + list(range(31,41))\n",
    "bsk = bfam.BruteforceAttackMethod(clf, target=0)\n",
    "start = time.time()\n",
    "adv_d, num_q = bsk.generate(xte_d, alpha=1., p_index=p_index)\n",
    "stop = time.time()\n",
    "print('The detection rate becomes {:.2f}, the number of queries is {:.2f}, the time cost is {:.2f}!'.format(\n",
    "        clf.score(adv_d, yte_d)*100, np.mean(num_q), stop-start))"
   ]
  },
  {
   "cell_type": "code",
   "execution_count": null,
   "metadata": {},
   "outputs": [],
   "source": [
    "p_index = list(range(9,22)) \n",
    "bsk = bfam.BruteforceAttackMethod(clf, target=0)\n",
    "start = time.time()\n",
    "adv_p, num_q = bsk.generate(xte_p, alpha=1., p_index=p_index)\n",
    "# adv_p, num_q = bsk.generate(xte_p, alpha=1.)\n",
    "stop = time.time()\n",
    "print('The detection rate becomes {:.2f}, the number of queries is {:.2f}, the time cost is {:.2f}!'.format(\n",
    "        clf.score(adv_p, yte_p)*100, np.mean(num_q), stop-start))"
   ]
  },
  {
   "cell_type": "code",
   "execution_count": null,
   "metadata": {},
   "outputs": [],
   "source": [
    "p_index = list(range(22,41))\n",
    "bsk = bfam.BruteforceAttackMethod(clf, target=0)\n",
    "start = time.time()\n",
    "adv_r, num_q = bsk.generate(xte_r, alpha=1., p_index=p_index)\n",
    "# adv_r, num_q = bsk.generate(xte_r, alpha=1.)\n",
    "stop = time.time()\n",
    "print('The detection rate becomes {:.2f}, the number of queries is {:.2f}, the time cost is {:.2f}!'.format(\n",
    "        clf.score(adv_r, yte_r)*100, np.mean(num_q), stop-start))"
   ]
  },
  {
   "cell_type": "markdown",
   "metadata": {},
   "source": [
    "# ad_attacks for NB"
   ]
  },
  {
   "cell_type": "code",
   "execution_count": null,
   "metadata": {},
   "outputs": [],
   "source": [
    "clf= joblib.load('./temp/NSLKDD/NaiveBayesforNSLKDD')\n",
    "print(clf.score(xte_d, yte_d.astype('int')))\n",
    "print(clf.score(xte_p, yte_p.astype('int')))\n",
    "print(clf.score(xte_r, yte_r.astype('int')))"
   ]
  },
  {
   "cell_type": "code",
   "execution_count": null,
   "metadata": {},
   "outputs": [],
   "source": [
    "p_index = list(range(9,22)) + list(range(31,41))\n",
    "bsk = bfam.BruteforceAttackMethod(clf, target=0)\n",
    "start = time.time()\n",
    "adv_d, num_q = bsk.generate(xte_d, alpha=1., p_index=p_index)\n",
    "stop = time.time()\n",
    "print('The detection rate becomes {:.2f}, the number of queries is {:.2f}, the time cost is {:.2f}!'.format(\n",
    "        clf.score(adv_d, yte_d)*100, np.mean(num_q), stop-start))"
   ]
  },
  {
   "cell_type": "code",
   "execution_count": null,
   "metadata": {},
   "outputs": [],
   "source": [
    "p_index = list(range(9,22)) \n",
    "bsk = bfam.BruteforceAttackMethod(clf, target=0)\n",
    "start = time.time()\n",
    "adv_p, num_q = bsk.generate(xte_p, alpha=1., p_index=p_index)\n",
    "# adv_p, num_q = bsk.generate(xte_p, alpha=1.)\n",
    "stop = time.time()\n",
    "print('The detection rate becomes {:.2f}, the number of queries is {:.2f}, the time cost is {:.2f}!'.format(\n",
    "        clf.score(adv_p, yte_p)*100, np.mean(num_q), stop-start))"
   ]
  },
  {
   "cell_type": "code",
   "execution_count": null,
   "metadata": {},
   "outputs": [],
   "source": [
    "p_index = list(range(22,41))\n",
    "bsk = bfam.BruteforceAttackMethod(clf, target=0)\n",
    "start = time.time()\n",
    "adv_r, num_q = bsk.generate(xte_r, alpha=1., p_index=p_index)\n",
    "# adv_r, num_q = bsk.generate(xte_r, alpha=1.)\n",
    "stop = time.time()\n",
    "print('The detection rate becomes {:.2f}, the number of queries is {:.2f}, the time cost is {:.2f}!'.format(\n",
    "        clf.score(adv_r, yte_r)*100, np.mean(num_q), stop-start))"
   ]
  },
  {
   "cell_type": "markdown",
   "metadata": {},
   "source": [
    "# ad_attacks for RF "
   ]
  },
  {
   "cell_type": "code",
   "execution_count": null,
   "metadata": {},
   "outputs": [],
   "source": [
    "clf= joblib.load('./temp/NSLKDD/RandomForestforNSLKDD')\n",
    "print(clf.score(xte_d, yte_d.astype('int')))\n",
    "print(clf.score(xte_p, yte_p.astype('int')))\n",
    "print(clf.score(xte_r, yte_r.astype('int')))"
   ]
  },
  {
   "cell_type": "code",
   "execution_count": null,
   "metadata": {},
   "outputs": [],
   "source": [
    "p_index = list(range(9,22)) + list(range(31,41))\n",
    "bsk = bfam.BruteforceAttackMethod(clf, target=0)\n",
    "start = time.time()\n",
    "adv_d, num_q = bsk.generate(xte_d, alpha=1., p_index=p_index)\n",
    "stop = time.time()\n",
    "print('The detection rate becomes {:.2f}, the number of queries is {:.2f}, the time cost is {:.2f}!'.format(\n",
    "        clf.score(adv_d, yte_d)*100, np.mean(num_q), stop-start))"
   ]
  },
  {
   "cell_type": "code",
   "execution_count": null,
   "metadata": {},
   "outputs": [],
   "source": [
    "p_index = list(range(9,22))\n",
    "bsk = bfam.BruteforceAttackMethod(clf, target=0)\n",
    "start = time.time()\n",
    "adv_p, num_q = bsk.generate(xte_p, alpha=1., p_index=p_index)\n",
    "stop = time.time()\n",
    "print('The detection rate becomes {:.2f}, the number of queries is {:.2f}, the time cost is {:.2f}!'.format(\n",
    "        clf.score(adv_p, yte_p)*100, np.mean(num_q), stop-start))"
   ]
  },
  {
   "cell_type": "code",
   "execution_count": null,
   "metadata": {
    "pycharm": {
     "name": "#%%\n"
    }
   },
   "outputs": [],
   "source": [
    "p_index = list(range(22,41))\n",
    "bsk = bfam.BruteforceAttackMethod(clf, target=0)\n",
    "start = time.time()\n",
    "adv_r, num_q = bsk.generate(xte_r, alpha=1., p_index=p_index)\n",
    "stop = time.time()\n",
    "print('The detection rate becomes {:.2f}, the number of queries is {:.2f}, the time cost is {:.2f}!'.format(\n",
    "        clf.score(adv_r, yte_r)*100, np.mean(num_q), stop-start))\n"
   ]
  }
 ],
 "metadata": {
  "kernelspec": {
   "display_name": "Python 3",
   "language": "python",
   "name": "python3"
  },
  "language_info": {
   "codemirror_mode": {
    "name": "ipython",
    "version": 3
   },
   "file_extension": ".py",
   "mimetype": "text/x-python",
   "name": "python",
   "nbconvert_exporter": "python",
   "pygments_lexer": "ipython3",
   "version": "3.6.10-final"
  }
 },
 "nbformat": 4,
 "nbformat_minor": 2
}